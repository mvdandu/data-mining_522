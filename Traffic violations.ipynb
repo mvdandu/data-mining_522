{
 "cells": [
  {
   "cell_type": "code",
   "execution_count": 1,
   "metadata": {},
   "outputs": [],
   "source": [
    "# import libraries\n",
    "import pandas as pd\n",
    "import numpy as np"
   ]
  },
  {
   "cell_type": "code",
   "execution_count": 2,
   "metadata": {},
   "outputs": [
    {
     "name": "stderr",
     "output_type": "stream",
     "text": [
      "C:\\Users\\user\\anaconda3\\lib\\site-packages\\IPython\\core\\interactiveshell.py:3063: DtypeWarning: Columns (26) have mixed types.Specify dtype option on import or set low_memory=False.\n",
      "  interactivity=interactivity, compiler=compiler, result=result)\n"
     ]
    },
    {
     "data": {
      "text/html": [
       "<div>\n",
       "<style scoped>\n",
       "    .dataframe tbody tr th:only-of-type {\n",
       "        vertical-align: middle;\n",
       "    }\n",
       "\n",
       "    .dataframe tbody tr th {\n",
       "        vertical-align: top;\n",
       "    }\n",
       "\n",
       "    .dataframe thead th {\n",
       "        text-align: right;\n",
       "    }\n",
       "</style>\n",
       "<table border=\"1\" class=\"dataframe\">\n",
       "  <thead>\n",
       "    <tr style=\"text-align: right;\">\n",
       "      <th></th>\n",
       "      <th>Date Of Stop</th>\n",
       "      <th>Time Of Stop</th>\n",
       "      <th>Agency</th>\n",
       "      <th>SubAgency</th>\n",
       "      <th>Description</th>\n",
       "      <th>Location</th>\n",
       "      <th>Latitude</th>\n",
       "      <th>Longitude</th>\n",
       "      <th>Accident</th>\n",
       "      <th>Belts</th>\n",
       "      <th>...</th>\n",
       "      <th>Charge</th>\n",
       "      <th>Article</th>\n",
       "      <th>Contributed To Accident</th>\n",
       "      <th>Race</th>\n",
       "      <th>Gender</th>\n",
       "      <th>Driver City</th>\n",
       "      <th>Driver State</th>\n",
       "      <th>DL State</th>\n",
       "      <th>Arrest Type</th>\n",
       "      <th>Geolocation</th>\n",
       "    </tr>\n",
       "  </thead>\n",
       "  <tbody>\n",
       "    <tr>\n",
       "      <th>0</th>\n",
       "      <td>09/24/2013</td>\n",
       "      <td>17:11:00</td>\n",
       "      <td>MCP</td>\n",
       "      <td>3rd district, Silver Spring</td>\n",
       "      <td>DRIVING VEHICLE ON HIGHWAY WITH SUSPENDED REGI...</td>\n",
       "      <td>8804 FLOWER AVE</td>\n",
       "      <td>NaN</td>\n",
       "      <td>NaN</td>\n",
       "      <td>No</td>\n",
       "      <td>No</td>\n",
       "      <td>...</td>\n",
       "      <td>13-401(h)</td>\n",
       "      <td>Transportation Article</td>\n",
       "      <td>No</td>\n",
       "      <td>BLACK</td>\n",
       "      <td>M</td>\n",
       "      <td>TAKOMA PARK</td>\n",
       "      <td>MD</td>\n",
       "      <td>MD</td>\n",
       "      <td>A - Marked Patrol</td>\n",
       "      <td>NaN</td>\n",
       "    </tr>\n",
       "    <tr>\n",
       "      <th>1</th>\n",
       "      <td>08/29/2017</td>\n",
       "      <td>10:19:00</td>\n",
       "      <td>MCP</td>\n",
       "      <td>2nd district, Bethesda</td>\n",
       "      <td>DRIVER FAILURE TO OBEY PROPERLY PLACED TRAFFIC...</td>\n",
       "      <td>WISCONSIN AVE@ ELM ST</td>\n",
       "      <td>38.981725</td>\n",
       "      <td>-77.092757</td>\n",
       "      <td>No</td>\n",
       "      <td>No</td>\n",
       "      <td>...</td>\n",
       "      <td>21-201(a1)</td>\n",
       "      <td>Transportation Article</td>\n",
       "      <td>No</td>\n",
       "      <td>WHITE</td>\n",
       "      <td>F</td>\n",
       "      <td>FAIRFAX STATION</td>\n",
       "      <td>VA</td>\n",
       "      <td>VA</td>\n",
       "      <td>A - Marked Patrol</td>\n",
       "      <td>(38.981725, -77.0927566666667)</td>\n",
       "    </tr>\n",
       "    <tr>\n",
       "      <th>2</th>\n",
       "      <td>12/01/2014</td>\n",
       "      <td>12:52:00</td>\n",
       "      <td>MCP</td>\n",
       "      <td>6th district, Gaithersburg / Montgomery Village</td>\n",
       "      <td>FAILURE STOP AND YIELD AT THRU HWY</td>\n",
       "      <td>CHRISTOPHER AVE/MONTGOMERY VILLAGE AVE</td>\n",
       "      <td>39.162888</td>\n",
       "      <td>-77.229088</td>\n",
       "      <td>No</td>\n",
       "      <td>No</td>\n",
       "      <td>...</td>\n",
       "      <td>21-403(b)</td>\n",
       "      <td>Transportation Article</td>\n",
       "      <td>No</td>\n",
       "      <td>BLACK</td>\n",
       "      <td>F</td>\n",
       "      <td>UPPER MARLBORO</td>\n",
       "      <td>MD</td>\n",
       "      <td>MD</td>\n",
       "      <td>A - Marked Patrol</td>\n",
       "      <td>(39.1628883333333, -77.2290883333333)</td>\n",
       "    </tr>\n",
       "    <tr>\n",
       "      <th>3</th>\n",
       "      <td>08/29/2017</td>\n",
       "      <td>09:22:00</td>\n",
       "      <td>MCP</td>\n",
       "      <td>3rd district, Silver Spring</td>\n",
       "      <td>FAILURE YIELD RIGHT OF WAY ON U TURN</td>\n",
       "      <td>CHERRY HILL RD./CALVERTON BLVD.</td>\n",
       "      <td>39.056975</td>\n",
       "      <td>-76.954633</td>\n",
       "      <td>No</td>\n",
       "      <td>No</td>\n",
       "      <td>...</td>\n",
       "      <td>21-402(b)</td>\n",
       "      <td>Transportation Article</td>\n",
       "      <td>No</td>\n",
       "      <td>BLACK</td>\n",
       "      <td>M</td>\n",
       "      <td>FORT WASHINGTON</td>\n",
       "      <td>MD</td>\n",
       "      <td>MD</td>\n",
       "      <td>A - Marked Patrol</td>\n",
       "      <td>(39.056975, -76.9546333333333)</td>\n",
       "    </tr>\n",
       "    <tr>\n",
       "      <th>4</th>\n",
       "      <td>08/28/2017</td>\n",
       "      <td>23:41:00</td>\n",
       "      <td>MCP</td>\n",
       "      <td>6th district, Gaithersburg / Montgomery Village</td>\n",
       "      <td>FAILURE OF DR. TO MAKE LANE CHANGE TO AVAIL. L...</td>\n",
       "      <td>355 @ SOUTH WESTLAND DRIVE</td>\n",
       "      <td>NaN</td>\n",
       "      <td>NaN</td>\n",
       "      <td>No</td>\n",
       "      <td>No</td>\n",
       "      <td>...</td>\n",
       "      <td>21-405(e1)</td>\n",
       "      <td>Transportation Article</td>\n",
       "      <td>No</td>\n",
       "      <td>WHITE</td>\n",
       "      <td>M</td>\n",
       "      <td>GAITHERSBURG</td>\n",
       "      <td>MD</td>\n",
       "      <td>MD</td>\n",
       "      <td>A - Marked Patrol</td>\n",
       "      <td>NaN</td>\n",
       "    </tr>\n",
       "  </tbody>\n",
       "</table>\n",
       "<p>5 rows × 35 columns</p>\n",
       "</div>"
      ],
      "text/plain": [
       "  Date Of Stop Time Of Stop Agency  \\\n",
       "0   09/24/2013     17:11:00    MCP   \n",
       "1   08/29/2017     10:19:00    MCP   \n",
       "2   12/01/2014     12:52:00    MCP   \n",
       "3   08/29/2017     09:22:00    MCP   \n",
       "4   08/28/2017     23:41:00    MCP   \n",
       "\n",
       "                                         SubAgency  \\\n",
       "0                      3rd district, Silver Spring   \n",
       "1                           2nd district, Bethesda   \n",
       "2  6th district, Gaithersburg / Montgomery Village   \n",
       "3                      3rd district, Silver Spring   \n",
       "4  6th district, Gaithersburg / Montgomery Village   \n",
       "\n",
       "                                         Description  \\\n",
       "0  DRIVING VEHICLE ON HIGHWAY WITH SUSPENDED REGI...   \n",
       "1  DRIVER FAILURE TO OBEY PROPERLY PLACED TRAFFIC...   \n",
       "2                 FAILURE STOP AND YIELD AT THRU HWY   \n",
       "3               FAILURE YIELD RIGHT OF WAY ON U TURN   \n",
       "4  FAILURE OF DR. TO MAKE LANE CHANGE TO AVAIL. L...   \n",
       "\n",
       "                                 Location   Latitude  Longitude Accident  \\\n",
       "0                         8804 FLOWER AVE        NaN        NaN       No   \n",
       "1                   WISCONSIN AVE@ ELM ST  38.981725 -77.092757       No   \n",
       "2  CHRISTOPHER AVE/MONTGOMERY VILLAGE AVE  39.162888 -77.229088       No   \n",
       "3         CHERRY HILL RD./CALVERTON BLVD.  39.056975 -76.954633       No   \n",
       "4              355 @ SOUTH WESTLAND DRIVE        NaN        NaN       No   \n",
       "\n",
       "  Belts  ...      Charge                 Article Contributed To Accident  \\\n",
       "0    No  ...   13-401(h)  Transportation Article                      No   \n",
       "1    No  ...  21-201(a1)  Transportation Article                      No   \n",
       "2    No  ...   21-403(b)  Transportation Article                      No   \n",
       "3    No  ...   21-402(b)  Transportation Article                      No   \n",
       "4    No  ...  21-405(e1)  Transportation Article                      No   \n",
       "\n",
       "    Race Gender      Driver City Driver State DL State        Arrest Type  \\\n",
       "0  BLACK      M      TAKOMA PARK           MD       MD  A - Marked Patrol   \n",
       "1  WHITE      F  FAIRFAX STATION           VA       VA  A - Marked Patrol   \n",
       "2  BLACK      F   UPPER MARLBORO           MD       MD  A - Marked Patrol   \n",
       "3  BLACK      M  FORT WASHINGTON           MD       MD  A - Marked Patrol   \n",
       "4  WHITE      M     GAITHERSBURG           MD       MD  A - Marked Patrol   \n",
       "\n",
       "                             Geolocation  \n",
       "0                                    NaN  \n",
       "1         (38.981725, -77.0927566666667)  \n",
       "2  (39.1628883333333, -77.2290883333333)  \n",
       "3         (39.056975, -76.9546333333333)  \n",
       "4                                    NaN  \n",
       "\n",
       "[5 rows x 35 columns]"
      ]
     },
     "execution_count": 2,
     "metadata": {},
     "output_type": "execute_result"
    }
   ],
   "source": [
    "# import dataset\n",
    "df = pd.read_csv('Traffic_Violations.csv')\n",
    "\n",
    "# read the first 5 rows\n",
    "df.head(5)"
   ]
  },
  {
   "cell_type": "code",
   "execution_count": 3,
   "metadata": {},
   "outputs": [
    {
     "name": "stdout",
     "output_type": "stream",
     "text": [
      "<class 'pandas.core.frame.DataFrame'>\n",
      "RangeIndex: 1292399 entries, 0 to 1292398\n",
      "Data columns (total 35 columns):\n",
      " #   Column                   Non-Null Count    Dtype  \n",
      "---  ------                   --------------    -----  \n",
      " 0   Date Of Stop             1292399 non-null  object \n",
      " 1   Time Of Stop             1292399 non-null  object \n",
      " 2   Agency                   1292399 non-null  object \n",
      " 3   SubAgency                1292389 non-null  object \n",
      " 4   Description              1292390 non-null  object \n",
      " 5   Location                 1292397 non-null  object \n",
      " 6   Latitude                 1197045 non-null  float64\n",
      " 7   Longitude                1197045 non-null  float64\n",
      " 8   Accident                 1292399 non-null  object \n",
      " 9   Belts                    1292399 non-null  object \n",
      " 10  Personal Injury          1292399 non-null  object \n",
      " 11  Property Damage          1292399 non-null  object \n",
      " 12  Fatal                    1292399 non-null  object \n",
      " 13  Commercial License       1292399 non-null  object \n",
      " 14  HAZMAT                   1292399 non-null  object \n",
      " 15  Commercial Vehicle       1292399 non-null  object \n",
      " 16  Alcohol                  1292399 non-null  object \n",
      " 17  Work Zone                1292399 non-null  object \n",
      " 18  State                    1292340 non-null  object \n",
      " 19  VehicleType              1292399 non-null  object \n",
      " 20  Year                     1284325 non-null  float64\n",
      " 21  Make                     1292342 non-null  object \n",
      " 22  Model                    1292212 non-null  object \n",
      " 23  Color                    1276272 non-null  object \n",
      " 24  Violation Type           1292399 non-null  object \n",
      " 25  Charge                   1292399 non-null  object \n",
      " 26  Article                  1227230 non-null  object \n",
      " 27  Contributed To Accident  1292399 non-null  object \n",
      " 28  Race                     1292399 non-null  object \n",
      " 29  Gender                   1292399 non-null  object \n",
      " 30  Driver City              1292182 non-null  object \n",
      " 31  Driver State             1292388 non-null  object \n",
      " 32  DL State                 1291470 non-null  object \n",
      " 33  Arrest Type              1292399 non-null  object \n",
      " 34  Geolocation              1197045 non-null  object \n",
      "dtypes: float64(3), object(32)\n",
      "memory usage: 345.1+ MB\n"
     ]
    }
   ],
   "source": [
    "# dataset information\n",
    "df.info()"
   ]
  },
  {
   "cell_type": "code",
   "execution_count": 11,
   "metadata": {},
   "outputs": [
    {
     "data": {
      "text/plain": [
       "Agency                         0\n",
       "Accident                       0\n",
       "Belts                          0\n",
       "Personal Injury                0\n",
       "Property Damage                0\n",
       "Fatal                          0\n",
       "Commercial License             0\n",
       "Commercial Vehicle             0\n",
       "Alcohol                        0\n",
       "Work Zone                      0\n",
       "State                         59\n",
       "VehicleType                    0\n",
       "Model                        187\n",
       "Color                      16127\n",
       "Violation Type                 0\n",
       "Charge                         0\n",
       "Contributed To Accident        0\n",
       "Race                           0\n",
       "Gender                         0\n",
       "dtype: int64"
      ]
     },
     "execution_count": 11,
     "metadata": {},
     "output_type": "execute_result"
    }
   ],
   "source": [
    "# check missing data\n",
    "df.isnull().sum()"
   ]
  },
  {
   "cell_type": "code",
   "execution_count": 6,
   "metadata": {},
   "outputs": [],
   "source": [
    "# deleting columns\n",
    "df.drop(['SubAgency', 'Description', 'Location', 'Latitude', 'Longitude', 'Driver City', 'Driver State', 'Arrest Type', 'Geolocation'], inplace=True, axis=1)"
   ]
  },
  {
   "cell_type": "code",
   "execution_count": 8,
   "metadata": {},
   "outputs": [],
   "source": [
    "# drop more columns\n",
    "df.drop(['Date Of Stop', 'Time Of Stop', 'HAZMAT', 'Year', 'Make'], inplace=True, axis=1)"
   ]
  },
  {
   "cell_type": "code",
   "execution_count": 10,
   "metadata": {},
   "outputs": [],
   "source": [
    "# drop more columns\n",
    "df.drop(['Article',  'DL State'], inplace=True, axis=1)"
   ]
  },
  {
   "cell_type": "code",
   "execution_count": 15,
   "metadata": {},
   "outputs": [],
   "source": [
    "# drop more columns\n",
    "df.drop(['Agency', 'VehicleType', 'Charge'], inplace=True, axis=1)"
   ]
  },
  {
   "cell_type": "code",
   "execution_count": 16,
   "metadata": {},
   "outputs": [
    {
     "data": {
      "text/html": [
       "<div>\n",
       "<style scoped>\n",
       "    .dataframe tbody tr th:only-of-type {\n",
       "        vertical-align: middle;\n",
       "    }\n",
       "\n",
       "    .dataframe tbody tr th {\n",
       "        vertical-align: top;\n",
       "    }\n",
       "\n",
       "    .dataframe thead th {\n",
       "        text-align: right;\n",
       "    }\n",
       "</style>\n",
       "<table border=\"1\" class=\"dataframe\">\n",
       "  <thead>\n",
       "    <tr style=\"text-align: right;\">\n",
       "      <th></th>\n",
       "      <th>Accident</th>\n",
       "      <th>Belts</th>\n",
       "      <th>Personal Injury</th>\n",
       "      <th>Property Damage</th>\n",
       "      <th>Fatal</th>\n",
       "      <th>Commercial License</th>\n",
       "      <th>Commercial Vehicle</th>\n",
       "      <th>Alcohol</th>\n",
       "      <th>Work Zone</th>\n",
       "      <th>State</th>\n",
       "      <th>Model</th>\n",
       "      <th>Color</th>\n",
       "      <th>Violation Type</th>\n",
       "      <th>Contributed To Accident</th>\n",
       "      <th>Race</th>\n",
       "      <th>Gender</th>\n",
       "    </tr>\n",
       "  </thead>\n",
       "  <tbody>\n",
       "    <tr>\n",
       "      <th>0</th>\n",
       "      <td>No</td>\n",
       "      <td>No</td>\n",
       "      <td>No</td>\n",
       "      <td>No</td>\n",
       "      <td>No</td>\n",
       "      <td>No</td>\n",
       "      <td>No</td>\n",
       "      <td>No</td>\n",
       "      <td>No</td>\n",
       "      <td>MD</td>\n",
       "      <td>4S</td>\n",
       "      <td>BLACK</td>\n",
       "      <td>Citation</td>\n",
       "      <td>No</td>\n",
       "      <td>BLACK</td>\n",
       "      <td>M</td>\n",
       "    </tr>\n",
       "    <tr>\n",
       "      <th>1</th>\n",
       "      <td>No</td>\n",
       "      <td>No</td>\n",
       "      <td>No</td>\n",
       "      <td>No</td>\n",
       "      <td>No</td>\n",
       "      <td>No</td>\n",
       "      <td>No</td>\n",
       "      <td>No</td>\n",
       "      <td>No</td>\n",
       "      <td>VA</td>\n",
       "      <td>COROLLA</td>\n",
       "      <td>GREEN</td>\n",
       "      <td>Citation</td>\n",
       "      <td>No</td>\n",
       "      <td>WHITE</td>\n",
       "      <td>F</td>\n",
       "    </tr>\n",
       "    <tr>\n",
       "      <th>2</th>\n",
       "      <td>No</td>\n",
       "      <td>No</td>\n",
       "      <td>No</td>\n",
       "      <td>Yes</td>\n",
       "      <td>No</td>\n",
       "      <td>No</td>\n",
       "      <td>No</td>\n",
       "      <td>No</td>\n",
       "      <td>No</td>\n",
       "      <td>MD</td>\n",
       "      <td>ACCORD</td>\n",
       "      <td>SILVER</td>\n",
       "      <td>Citation</td>\n",
       "      <td>No</td>\n",
       "      <td>BLACK</td>\n",
       "      <td>F</td>\n",
       "    </tr>\n",
       "    <tr>\n",
       "      <th>3</th>\n",
       "      <td>No</td>\n",
       "      <td>No</td>\n",
       "      <td>No</td>\n",
       "      <td>Yes</td>\n",
       "      <td>No</td>\n",
       "      <td>No</td>\n",
       "      <td>No</td>\n",
       "      <td>No</td>\n",
       "      <td>No</td>\n",
       "      <td>MD</td>\n",
       "      <td>DAKOTA</td>\n",
       "      <td>WHITE</td>\n",
       "      <td>Citation</td>\n",
       "      <td>No</td>\n",
       "      <td>BLACK</td>\n",
       "      <td>M</td>\n",
       "    </tr>\n",
       "    <tr>\n",
       "      <th>4</th>\n",
       "      <td>No</td>\n",
       "      <td>No</td>\n",
       "      <td>No</td>\n",
       "      <td>No</td>\n",
       "      <td>No</td>\n",
       "      <td>No</td>\n",
       "      <td>No</td>\n",
       "      <td>No</td>\n",
       "      <td>No</td>\n",
       "      <td>MD</td>\n",
       "      <td>2S</td>\n",
       "      <td>WHITE</td>\n",
       "      <td>Citation</td>\n",
       "      <td>No</td>\n",
       "      <td>WHITE</td>\n",
       "      <td>M</td>\n",
       "    </tr>\n",
       "  </tbody>\n",
       "</table>\n",
       "</div>"
      ],
      "text/plain": [
       "  Accident Belts Personal Injury Property Damage Fatal Commercial License  \\\n",
       "0       No    No              No              No    No                 No   \n",
       "1       No    No              No              No    No                 No   \n",
       "2       No    No              No             Yes    No                 No   \n",
       "3       No    No              No             Yes    No                 No   \n",
       "4       No    No              No              No    No                 No   \n",
       "\n",
       "  Commercial Vehicle Alcohol Work Zone State    Model   Color Violation Type  \\\n",
       "0                 No      No        No    MD       4S   BLACK       Citation   \n",
       "1                 No      No        No    VA  COROLLA   GREEN       Citation   \n",
       "2                 No      No        No    MD   ACCORD  SILVER       Citation   \n",
       "3                 No      No        No    MD   DAKOTA   WHITE       Citation   \n",
       "4                 No      No        No    MD       2S   WHITE       Citation   \n",
       "\n",
       "  Contributed To Accident   Race Gender  \n",
       "0                      No  BLACK      M  \n",
       "1                      No  WHITE      F  \n",
       "2                      No  BLACK      F  \n",
       "3                      No  BLACK      M  \n",
       "4                      No  WHITE      M  "
      ]
     },
     "execution_count": 16,
     "metadata": {},
     "output_type": "execute_result"
    }
   ],
   "source": [
    "df.head()"
   ]
  },
  {
   "cell_type": "code",
   "execution_count": 17,
   "metadata": {},
   "outputs": [
    {
     "data": {
      "text/plain": [
       "array(['Citation', 'Warning', 'ESERO', 'SERO'], dtype=object)"
      ]
     },
     "execution_count": 17,
     "metadata": {},
     "output_type": "execute_result"
    }
   ],
   "source": [
    "# violation type unique values\n",
    "df['Violation Type'].unique()"
   ]
  },
  {
   "cell_type": "code",
   "execution_count": 18,
   "metadata": {},
   "outputs": [
    {
     "data": {
      "text/plain": [
       "array(['BLACK', 'GREEN', 'SILVER', 'WHITE', 'GRAY', 'RED', 'GOLD', 'BLUE',\n",
       "       nan, 'BLUE, DARK', 'TAN', 'CREAM', 'PURPLE', 'BEIGE',\n",
       "       'BLUE, LIGHT', 'MAROON', 'GREEN, DK', 'GREEN, LGT', 'ORANGE',\n",
       "       'BROWN', 'BRONZE', 'YELLOW', 'COPPER', 'MULTICOLOR', 'CAMOUFLAGE',\n",
       "       'PINK', 'CHROME'], dtype=object)"
      ]
     },
     "execution_count": 18,
     "metadata": {},
     "output_type": "execute_result"
    }
   ],
   "source": [
    "# colors unique values\n",
    "df['Color'].unique()"
   ]
  },
  {
   "cell_type": "code",
   "execution_count": 19,
   "metadata": {},
   "outputs": [
    {
     "data": {
      "text/plain": [
       "array(['4S', 'COROLLA', 'ACCORD', ..., '35M', 'CIICIC', 'CHARAKEE'],\n",
       "      dtype=object)"
      ]
     },
     "execution_count": 19,
     "metadata": {},
     "output_type": "execute_result"
    }
   ],
   "source": [
    "# models unique values\n",
    "df['Model'].unique()"
   ]
  },
  {
   "cell_type": "code",
   "execution_count": 20,
   "metadata": {},
   "outputs": [
    {
     "data": {
      "text/plain": [
       "BLACK          259499\n",
       "SILVER         236828\n",
       "WHITE          197558\n",
       "GRAY           141092\n",
       "RED            101733\n",
       "BLUE            94814\n",
       "GREEN           49520\n",
       "GOLD            41177\n",
       "BLUE, DARK      27111\n",
       "TAN             27015\n",
       "MAROON          22408\n",
       "BLUE, LIGHT     17221\n",
       "BEIGE           15047\n",
       "GREEN, DK       14457\n",
       "GREEN, LGT       7345\n",
       "BROWN            6021\n",
       "YELLOW           4889\n",
       "ORANGE           4538\n",
       "BRONZE           2964\n",
       "PURPLE           2524\n",
       "MULTICOLOR       1021\n",
       "CREAM             837\n",
       "COPPER            414\n",
       "PINK              188\n",
       "CHROME             27\n",
       "CAMOUFLAGE         24\n",
       "Name: Color, dtype: int64"
      ]
     },
     "execution_count": 20,
     "metadata": {},
     "output_type": "execute_result"
    }
   ],
   "source": [
    "# color value count\n",
    "df['Color'].value_counts()"
   ]
  },
  {
   "cell_type": "code",
   "execution_count": 21,
   "metadata": {},
   "outputs": [
    {
     "data": {
      "text/plain": [
       "4S            144337\n",
       "TK             84159\n",
       "ACCORD         47388\n",
       "CIVIC          44291\n",
       "CAMRY          43232\n",
       "               ...  \n",
       "TSEQUOIA           1\n",
       "R100               1\n",
       "F250 - TK          1\n",
       "ECLIPSE CN         1\n",
       "NCH50              1\n",
       "Name: Model, Length: 17560, dtype: int64"
      ]
     },
     "execution_count": 21,
     "metadata": {},
     "output_type": "execute_result"
    }
   ],
   "source": [
    "# model value counts\n",
    "df['Model'].value_counts()"
   ]
  },
  {
   "cell_type": "code",
   "execution_count": 22,
   "metadata": {},
   "outputs": [
    {
     "data": {
      "text/plain": [
       "Warning     620103\n",
       "Citation    607150\n",
       "ESERO        64224\n",
       "SERO           922\n",
       "Name: Violation Type, dtype: int64"
      ]
     },
     "execution_count": 22,
     "metadata": {},
     "output_type": "execute_result"
    }
   ],
   "source": [
    "# violation type value counts\n",
    "df['Violation Type'].value_counts()"
   ]
  },
  {
   "cell_type": "code",
   "execution_count": 33,
   "metadata": {},
   "outputs": [
    {
     "data": {
      "text/plain": [
       "No     1292120\n",
       "Yes        279\n",
       "Name: Fatal, dtype: int64"
      ]
     },
     "execution_count": 33,
     "metadata": {},
     "output_type": "execute_result"
    }
   ],
   "source": [
    "# fatal value counts\n",
    "df['Fatal'].value_counts()"
   ]
  },
  {
   "cell_type": "code",
   "execution_count": 25,
   "metadata": {},
   "outputs": [
    {
     "data": {
      "text/plain": [
       "Color\n",
       "BEIGE           15047\n",
       "BLACK          259499\n",
       "BLUE            94814\n",
       "BLUE, DARK      27111\n",
       "BLUE, LIGHT     17221\n",
       "BRONZE           2964\n",
       "BROWN            6021\n",
       "CAMOUFLAGE         24\n",
       "CHROME             27\n",
       "COPPER            414\n",
       "CREAM             837\n",
       "GOLD            41177\n",
       "GRAY           141092\n",
       "GREEN           49520\n",
       "GREEN, DK       14457\n",
       "GREEN, LGT       7345\n",
       "MAROON          22408\n",
       "MULTICOLOR       1021\n",
       "ORANGE           4538\n",
       "PINK              188\n",
       "PURPLE           2524\n",
       "RED            101733\n",
       "SILVER         236828\n",
       "TAN             27015\n",
       "WHITE          197558\n",
       "YELLOW           4889\n",
       "Name: Violation Type, dtype: int64"
      ]
     },
     "execution_count": 25,
     "metadata": {},
     "output_type": "execute_result"
    }
   ],
   "source": [
    "# vehicle colors that are likely to get involved in a traffic violation\n",
    "# using the groupby function\n",
    "df.groupby('Color')['Violation Type'].count()"
   ]
  },
  {
   "cell_type": "code",
   "execution_count": 30,
   "metadata": {},
   "outputs": [
    {
     "data": {
      "text/plain": [
       "Model\n",
       "(COMCAST)            1\n",
       "(SCION) TC           3\n",
       "(SW) PASSAT          2\n",
       "+C 2S                1\n",
       "-                   12\n",
       "---                  4\n",
       "-----                1\n",
       ".                   28\n",
       "..                   1\n",
       "...                  1\n",
       ".....                3\n",
       "00                 100\n",
       "000                  1\n",
       "000000               1\n",
       "01                   3\n",
       "02                  15\n",
       "05                   8\n",
       "07                   2\n",
       "070                  1\n",
       "0DYSSES              1\n",
       "0DYSSEY              5\n",
       "0E9                  1\n",
       "1                    1\n",
       "1 TON                1\n",
       "1 TONJ               1\n",
       "1.5 RL 4D            2\n",
       "1.8 T                2\n",
       "1.8T                17\n",
       "100                  4\n",
       "100 CS               2\n",
       "                  ... \n",
       "ZR                   1\n",
       "ZSX                  5\n",
       "ZTERRA               1\n",
       "ZTS                  1\n",
       "ZUMA                32\n",
       "ZUMA SPORTS SCO      9\n",
       "ZUMMER               3\n",
       "ZX                   4\n",
       "ZX 600               6\n",
       "ZX-10R               4\n",
       "ZX-6                13\n",
       "ZX-6R                4\n",
       "ZX10                 5\n",
       "ZX1000               3\n",
       "ZX10R                3\n",
       "ZX1200               1\n",
       "ZX14R                1\n",
       "ZX2                 15\n",
       "ZX3                  4\n",
       "ZX6                  1\n",
       "ZX636FGFL            3\n",
       "ZX6R                12\n",
       "ZX8R                 2\n",
       "ZX9                  1\n",
       "ZY1 SUBURBAN         2\n",
       "ZZR1200              6\n",
       "`4S                  3\n",
       "`TC                  4\n",
       "`TSX 4D              1\n",
       "~~4DR TL             2\n",
       "Name: Violation Type, Length: 17560, dtype: int64"
      ]
     },
     "execution_count": 30,
     "metadata": {},
     "output_type": "execute_result"
    }
   ],
   "source": [
    "# models of the car that are more likely to get involved in a traffic violation\n",
    "pd.options.display.min_rows = 200\n",
    "df.groupby('Model')['Violation Type'].count()"
   ]
  },
  {
   "cell_type": "code",
   "execution_count": 31,
   "metadata": {},
   "outputs": [
    {
     "data": {
      "text/plain": [
       "Race\n",
       "ASIAN               75454\n",
       "BLACK              407493\n",
       "HISPANIC           271966\n",
       "NATIVE AMERICAN      2940\n",
       "OTHER               68738\n",
       "WHITE              465808\n",
       "Name: Violation Type, dtype: int64"
      ]
     },
     "execution_count": 31,
     "metadata": {},
     "output_type": "execute_result"
    }
   ],
   "source": [
    "# race that is likely to get involved in a traffic violation\n",
    "df.groupby('Race')['Violation Type'].count()"
   ]
  },
  {
   "cell_type": "code",
   "execution_count": 32,
   "metadata": {},
   "outputs": [
    {
     "data": {
      "text/plain": [
       "Gender\n",
       "F    425097\n",
       "M    865862\n",
       "U      1440\n",
       "Name: Violation Type, dtype: int64"
      ]
     },
     "execution_count": 32,
     "metadata": {},
     "output_type": "execute_result"
    }
   ],
   "source": [
    "# Gender that is likely to get involved in a traffic violation\n",
    "df.groupby('Gender')['Violation Type'].count()"
   ]
  }
 ],
 "metadata": {
  "kernelspec": {
   "display_name": "Python 3",
   "language": "python",
   "name": "python3"
  },
  "language_info": {
   "codemirror_mode": {
    "name": "ipython",
    "version": 3
   },
   "file_extension": ".py",
   "mimetype": "text/x-python",
   "name": "python",
   "nbconvert_exporter": "python",
   "pygments_lexer": "ipython3",
   "version": "3.7.6"
  }
 },
 "nbformat": 4,
 "nbformat_minor": 4
}
